{
  "nbformat": 4,
  "nbformat_minor": 0,
  "metadata": {
    "colab": {
      "provenance": [],
      "authorship_tag": "ABX9TyNAKaZ9Gcgk/nkYBOQ633Qn",
      "include_colab_link": true
    },
    "kernelspec": {
      "name": "python3",
      "display_name": "Python 3"
    },
    "language_info": {
      "name": "python"
    }
  },
  "cells": [
    {
      "cell_type": "markdown",
      "metadata": {
        "id": "view-in-github",
        "colab_type": "text"
      },
      "source": [
        "<a href=\"https://colab.research.google.com/github/reza-nugraha32/data-sciences-lab/blob/main/data_cleansing_practice.ipynb\" target=\"_parent\"><img src=\"https://colab.research.google.com/assets/colab-badge.svg\" alt=\"Open In Colab\"/></a>"
      ]
    },
    {
      "cell_type": "code",
      "execution_count": null,
      "metadata": {
        "id": "PkNeJk41UUM0"
      },
      "outputs": [],
      "source": [
        "!pip install pandas-profiling"
      ]
    },
    {
      "cell_type": "code",
      "source": [
        "import pandas as pd\n",
        "import numpy as np\n",
        "import io\n",
        "import pandas_profiling\n",
        "retail_raw = pd.read_csv('https://storage.googleapis.com/dqlab-dataset/retail_raw_reduced_data_quality.csv')"
      ],
      "metadata": {
        "id": "YgfLNE5JVOc4"
      },
      "execution_count": 5,
      "outputs": []
    },
    {
      "cell_type": "code",
      "source": [
        "# Missing Values Handling\n",
        "# Check for column with missing values\n",
        "print('Check for column with missing values:')\n",
        "print(retail_raw.isnull().any())\n",
        "\n",
        "# Fill the missing value with its mean\n",
        "# Row count remains the same\n",
        "print('\\nFill the missing value (imputation):')\n",
        "print(retail_raw['quantity'].fillna(retail_raw.quantity.mean()))\n",
        "\n",
        "# Drop missing value\n",
        "# Row count decreased as any row with missing value is dropped\n",
        "print('\\nDrop missing value:')\n",
        "print(retail_raw['quantity'].dropna())"
      ],
      "metadata": {
        "colab": {
          "base_uri": "https://localhost:8080/"
        },
        "id": "d-AMIPmkWI5v",
        "outputId": "20e9bc43-2cbd-427e-ec30-c4f4db128bd3"
      },
      "execution_count": 6,
      "outputs": [
        {
          "output_type": "stream",
          "name": "stdout",
          "text": [
            "Check for column with missing values:\n",
            "order_id       False\n",
            "order_date     False\n",
            "customer_id    False\n",
            "city            True\n",
            "province        True\n",
            "product_id      True\n",
            "brand          False\n",
            "quantity        True\n",
            "item_price      True\n",
            "dtype: bool\n",
            "\n",
            "Fill the missing value (imputation):\n",
            "0       10.0\n",
            "1        2.0\n",
            "2        8.0\n",
            "3        4.0\n",
            "4        2.0\n",
            "        ... \n",
            "4995     2.0\n",
            "4996     3.0\n",
            "4997     4.0\n",
            "4998     8.0\n",
            "4999     1.0\n",
            "Name: quantity, Length: 5000, dtype: float64\n",
            "\n",
            "Drop missing value:\n",
            "0       10.0\n",
            "1        2.0\n",
            "2        8.0\n",
            "3        4.0\n",
            "4        2.0\n",
            "        ... \n",
            "4995     2.0\n",
            "4996     3.0\n",
            "4997     4.0\n",
            "4998     8.0\n",
            "4999     1.0\n",
            "Name: quantity, Length: 4986, dtype: float64\n"
          ]
        }
      ]
    },
    {
      "cell_type": "code",
      "source": [
        "# Outliers Handling\n",
        "# Q1, Q3, dan IQR\n",
        "Q1 = retail_raw['quantity'].quantile(0.25)\n",
        "Q3 = retail_raw['quantity'].quantile(0.75)\n",
        "IQR = Q3 - Q1\n",
        "\n",
        "# Shape of the dataset before its outliers were dropped\n",
        "print('Initial shape: ', retail_raw.shape)\n",
        "\n",
        "# Removing outliers\n",
        "retail_raw = retail_raw[~((retail_raw['quantity'] < (Q1 - 1.5*IQR)) | (retail_raw['quantity'] > (Q3 + 1.5*IQR)))]\n",
        "\n",
        "# Shape of the dataset after its outliers were dropped\n",
        "print('Final shape: ', retail_raw.shape)"
      ],
      "metadata": {
        "colab": {
          "base_uri": "https://localhost:8080/"
        },
        "id": "ir3PeussWOM5",
        "outputId": "ba1e1e2c-f7c6-4785-bbea-e8961ecb782f"
      },
      "execution_count": 13,
      "outputs": [
        {
          "output_type": "stream",
          "name": "stdout",
          "text": [
            "Initial shape:  (4692, 9)\n",
            "Final shape:  (4614, 9)\n"
          ]
        }
      ]
    },
    {
      "cell_type": "code",
      "source": [
        "# Duplicates Handling\n",
        "# Check for duplicates\n",
        "print(retail_raw.duplicated(subset=None))\n",
        "\n",
        "# Shape of the dataset before its duplicates were dropped\n",
        "print('Initial shape: ', retail_raw.shape)\n",
        "\n",
        "# Drop all duplicates\n",
        "retail_raw.drop_duplicates(inplace=True)\n",
        "\n",
        "# Shape of the dataset after its duplicates were dropped\n",
        "print('Final shape: ', retail_raw.shape)"
      ],
      "metadata": {
        "colab": {
          "base_uri": "https://localhost:8080/"
        },
        "id": "EUFnLVLMXeKx",
        "outputId": "b75db6e3-e01c-4855-df3b-20d39c3513cc"
      },
      "execution_count": 15,
      "outputs": [
        {
          "output_type": "stream",
          "name": "stdout",
          "text": [
            "0       False\n",
            "1       False\n",
            "2       False\n",
            "3       False\n",
            "4       False\n",
            "        ...  \n",
            "4995    False\n",
            "4996    False\n",
            "4997    False\n",
            "4998    False\n",
            "4999    False\n",
            "Length: 4614, dtype: bool\n",
            "Initial shape:  (4614, 9)\n",
            "Final shape:  (4614, 9)\n"
          ]
        },
        {
          "output_type": "stream",
          "name": "stderr",
          "text": [
            "<ipython-input-15-62ce8acefd23>:9: SettingWithCopyWarning: \n",
            "A value is trying to be set on a copy of a slice from a DataFrame\n",
            "\n",
            "See the caveats in the documentation: https://pandas.pydata.org/pandas-docs/stable/user_guide/indexing.html#returning-a-view-versus-a-copy\n",
            "  retail_raw.drop_duplicates(inplace=True)\n"
          ]
        }
      ]
    }
  ]
}