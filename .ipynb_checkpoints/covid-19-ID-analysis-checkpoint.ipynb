{
 "cells": [
  {
   "cell_type": "code",
   "execution_count": 3,
   "id": "334fa6e8",
   "metadata": {},
   "outputs": [
    {
     "name": "stdout",
     "output_type": "stream",
     "text": [
      "<Response [200]>\n"
     ]
    }
   ],
   "source": [
    "# Import data\n",
    "import requests\n",
    "resp = requests.get('https://storage.googleapis.com/dqlab-dataset/update.json')\n",
    "print(resp)"
   ]
  },
  {
   "cell_type": "code",
   "execution_count": 4,
   "id": "7e30db30",
   "metadata": {},
   "outputs": [],
   "source": [
    "# Extract JSON data\n",
    "cov_id_raw = resp.json()"
   ]
  },
  {
   "cell_type": "code",
   "execution_count": null,
   "id": "f79bc102",
   "metadata": {},
   "outputs": [],
   "source": [
    "# Extract komponen update\n",
    "print('Length of cov_id_raw : %d.' %len(cov_id_raw))\n",
    "print('Komponen cov_id_raw  : %s.' %cov_id_raw.keys())\n",
    "cov_id_update = cov_id_raw['update']"
   ]
  },
  {
   "cell_type": "markdown",
   "id": "9f34361a",
   "metadata": {},
   "source": [
    "Rumusan Masalah\n",
    "1. Kapan tanggal pembaharuan data penambahan kasus?\n",
    "2. Berapa jumlah penambahan kasus sembuh?\n",
    "3. Berapa jumlah penambahan kasus meninggal?\n",
    "4. Berapa jumlah total kasus positif hingga saat ini?\n",
    "5. Berapa jumlah total kasus meninggal hingga saat ini?"
   ]
  },
  {
   "cell_type": "code",
   "execution_count": 9,
   "id": "6e2bb970",
   "metadata": {},
   "outputs": [
    {
     "data": {
      "text/plain": [
       "dict_keys(['penambahan', 'harian', 'total'])"
      ]
     },
     "execution_count": 9,
     "metadata": {},
     "output_type": "execute_result"
    }
   ],
   "source": [
    "cov_id_update.keys()"
   ]
  },
  {
   "cell_type": "code",
   "execution_count": 10,
   "id": "af7cb668",
   "metadata": {},
   "outputs": [
    {
     "name": "stdout",
     "output_type": "stream",
     "text": [
      "Tanggal pembaharuan data penambahan kasus   : 2022-05-14\n",
      "Jumlah penambahan kasus sembuh              : 416\n",
      "Jumlah penambahan kasus meninggal           : 5\n",
      "Jumlah total kasus positif hingga saat ini  : 6050519\n",
      "Jumlah total kasus meninggal hingga saat ini: 156453\n"
     ]
    }
   ],
   "source": [
    "print('Tanggal pembaharuan data penambahan kasus   :', cov_id_update['penambahan']['tanggal'])\n",
    "print('Jumlah penambahan kasus sembuh              :', cov_id_update['penambahan']['jumlah_sembuh'])\n",
    "print('Jumlah penambahan kasus meninggal           :', cov_id_update['penambahan']['jumlah_meninggal'])\n",
    "print('Jumlah total kasus positif hingga saat ini  :', cov_id_update['total']['jumlah_positif'])\n",
    "print('Jumlah total kasus meninggal hingga saat ini:', cov_id_update['total']['jumlah_meninggal'])"
   ]
  },
  {
   "cell_type": "code",
   "execution_count": 16,
   "id": "887727e5",
   "metadata": {},
   "outputs": [],
   "source": [
    "# Data Covid-19 Jawa Barat\n",
    "resp_jabar = requests.get('https://storage.googleapis.com/dqlab-dataset/prov_detail_JAWA_BARAT.json')\n",
    "cov_jabar_raw = resp_jabar.json()"
   ]
  },
  {
   "cell_type": "code",
   "execution_count": 17,
   "id": "3c48f371",
   "metadata": {},
   "outputs": [
    {
     "name": "stdout",
     "output_type": "stream",
     "text": [
      "\n",
      "Jumlah total kasus COVID-19 di Jawa Barat                 : 1105134\n",
      "Persentase kematian akibat COVID-19 di Jawa Barat         : 1.425619.2%\n",
      "Persentase tingkat kesembuhan dari COVID-19 di Jawa Barat : 98.282380.2%\n"
     ]
    }
   ],
   "source": [
    "print('\\nJumlah total kasus COVID-19 di Jawa Barat                 : %d' %cov_jabar_raw['kasus_total'])\n",
    "print('Persentase kematian akibat COVID-19 di Jawa Barat         : %f.2%%' %cov_jabar_raw['meninggal_persen'])\n",
    "print('Persentase tingkat kesembuhan dari COVID-19 di Jawa Barat : %f.2%%' %cov_jabar_raw['sembuh_persen'])"
   ]
  },
  {
   "cell_type": "code",
   "execution_count": null,
   "id": "9d6cd165",
   "metadata": {},
   "outputs": [],
   "source": []
  }
 ],
 "metadata": {
  "kernelspec": {
   "display_name": "Python 3 (ipykernel)",
   "language": "python",
   "name": "python3"
  },
  "language_info": {
   "codemirror_mode": {
    "name": "ipython",
    "version": 3
   },
   "file_extension": ".py",
   "mimetype": "text/x-python",
   "name": "python",
   "nbconvert_exporter": "python",
   "pygments_lexer": "ipython3",
   "version": "3.9.13"
  }
 },
 "nbformat": 4,
 "nbformat_minor": 5
}
